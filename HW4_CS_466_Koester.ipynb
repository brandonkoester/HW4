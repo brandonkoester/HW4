{
  "cells": [
    {
      "cell_type": "markdown",
      "metadata": {
        "id": "view-in-github",
        "colab_type": "text"
      },
      "source": [
        "<a href=\"https://colab.research.google.com/github/brandonkoester/HW4/blob/main/HW4_CS_466_Koester.ipynb\" target=\"_parent\"><img src=\"https://colab.research.google.com/assets/colab-badge.svg\" alt=\"Open In Colab\"/></a>"
      ]
    },
    {
      "cell_type": "markdown",
      "metadata": {
        "id": "lp7tRZfFOZg6"
      },
      "source": [
        "# NOTE\n",
        "\n",
        "- Make a copy of this template before you start editing, and exported the file as a ipynb where you are done.\n",
        "\n",
        "- Before you turn this problem in, make sure everything runs as expected. First, **restart the kernel** (in the menubar, select Runtime$\\rightarrow$Factory reset runtime) and then **run all cells** (in the menubar, select Runtime$\\rightarrow$Run all).\n",
        "\n",
        "- Make sure you fill in any place that says `YOUR CODE HERE` or \"YOUR ANSWER HERE\". Fill out your name below in the `NAME` variable, leave the `COLLABORATORS` variable empty."
      ]
    },
    {
      "cell_type": "code",
      "execution_count": 1,
      "metadata": {
        "id": "t4fnV9HOOZg8"
      },
      "outputs": [],
      "source": [
        "NAME = \"Brandon Koester\"\n",
        "COLLABORATORS = \"\""
      ]
    },
    {
      "cell_type": "markdown",
      "metadata": {
        "id": "GuYaB4NSOZhA"
      },
      "source": [
        "---"
      ]
    },
    {
      "cell_type": "markdown",
      "metadata": {
        "id": "Hn3isQr-IDuN"
      },
      "source": [
        "# Homework 4\n",
        "\n",
        "## Copy number callers\n",
        "\n",
        "\n",
        "\n",
        "In this homework assignment we will develop a copy number caller based on a Hidden Markov Model. In addition, we will implement a hierarchical clustering algorithm. The data that we consider is from a previously published [breast tumor](http://dx.doi.org/10.1038/nature09807), from which 100 single cells have been sequenced. In this homework assignment we restrict our attention to a subset of 25 cells.\n",
        "\n",
        "_Instructions:_ There are four questions, worth a total of 100 points. In addition, there are two bonus questions (Q2e and Q4c), each worth 5 points. Insert your answer after each question in the designated box. Replace comments with code.\n"
      ]
    },
    {
      "cell_type": "code",
      "execution_count": 2,
      "metadata": {
        "colab": {
          "base_uri": "https://localhost:8080/"
        },
        "id": "AF8MKqetIDuO",
        "outputId": "fdac93ed-78c7-424f-fc83-5d063058d93b"
      },
      "outputs": [
        {
          "output_type": "stream",
          "name": "stdout",
          "text": [
            "Collecting nose\n",
            "  Downloading nose-1.3.7-py3-none-any.whl.metadata (1.7 kB)\n",
            "Downloading nose-1.3.7-py3-none-any.whl (154 kB)\n",
            "\u001b[?25l   \u001b[90m━━━━━━━━━━━━━━━━━━━━━━━━━━━━━━━━━━━━━━━━\u001b[0m \u001b[32m0.0/154.7 kB\u001b[0m \u001b[31m?\u001b[0m eta \u001b[36m-:--:--\u001b[0m\r\u001b[2K   \u001b[91m━━━━━━━━━━━━━━━━━━━━━━━━━━━━━━━━━━━━━━━\u001b[0m\u001b[91m╸\u001b[0m \u001b[32m153.6/154.7 kB\u001b[0m \u001b[31m6.9 MB/s\u001b[0m eta \u001b[36m0:00:01\u001b[0m\r\u001b[2K   \u001b[90m━━━━━━━━━━━━━━━━━━━━━━━━━━━━━━━━━━━━━━━━\u001b[0m \u001b[32m154.7/154.7 kB\u001b[0m \u001b[31m3.6 MB/s\u001b[0m eta \u001b[36m0:00:00\u001b[0m\n",
            "\u001b[?25hInstalling collected packages: nose\n",
            "Successfully installed nose-1.3.7\n",
            "Requirement already satisfied: numpy in /usr/local/lib/python3.10/dist-packages (1.26.4)\n",
            "Requirement already satisfied: pandas in /usr/local/lib/python3.10/dist-packages (2.2.2)\n",
            "Requirement already satisfied: numpy>=1.22.4 in /usr/local/lib/python3.10/dist-packages (from pandas) (1.26.4)\n",
            "Requirement already satisfied: python-dateutil>=2.8.2 in /usr/local/lib/python3.10/dist-packages (from pandas) (2.8.2)\n",
            "Requirement already satisfied: pytz>=2020.1 in /usr/local/lib/python3.10/dist-packages (from pandas) (2024.2)\n",
            "Requirement already satisfied: tzdata>=2022.7 in /usr/local/lib/python3.10/dist-packages (from pandas) (2024.2)\n",
            "Requirement already satisfied: six>=1.5 in /usr/local/lib/python3.10/dist-packages (from python-dateutil>=2.8.2->pandas) (1.16.0)\n",
            "Requirement already satisfied: matplotlib in /usr/local/lib/python3.10/dist-packages (3.8.0)\n",
            "Requirement already satisfied: contourpy>=1.0.1 in /usr/local/lib/python3.10/dist-packages (from matplotlib) (1.3.1)\n",
            "Requirement already satisfied: cycler>=0.10 in /usr/local/lib/python3.10/dist-packages (from matplotlib) (0.12.1)\n",
            "Requirement already satisfied: fonttools>=4.22.0 in /usr/local/lib/python3.10/dist-packages (from matplotlib) (4.55.0)\n",
            "Requirement already satisfied: kiwisolver>=1.0.1 in /usr/local/lib/python3.10/dist-packages (from matplotlib) (1.4.7)\n",
            "Requirement already satisfied: numpy<2,>=1.21 in /usr/local/lib/python3.10/dist-packages (from matplotlib) (1.26.4)\n",
            "Requirement already satisfied: packaging>=20.0 in /usr/local/lib/python3.10/dist-packages (from matplotlib) (24.2)\n",
            "Requirement already satisfied: pillow>=6.2.0 in /usr/local/lib/python3.10/dist-packages (from matplotlib) (11.0.0)\n",
            "Requirement already satisfied: pyparsing>=2.3.1 in /usr/local/lib/python3.10/dist-packages (from matplotlib) (3.2.0)\n",
            "Requirement already satisfied: python-dateutil>=2.7 in /usr/local/lib/python3.10/dist-packages (from matplotlib) (2.8.2)\n",
            "Requirement already satisfied: six>=1.5 in /usr/local/lib/python3.10/dist-packages (from python-dateutil>=2.7->matplotlib) (1.16.0)\n",
            "--2024-11-27 05:44:21--  https://drive.google.com/uc?export=download&id=12pgHOpJ8sRzF_rcnGE-xjAx3Eacu5W97\n",
            "Resolving drive.google.com (drive.google.com)... 74.125.20.100, 74.125.20.113, 74.125.20.102, ...\n",
            "Connecting to drive.google.com (drive.google.com)|74.125.20.100|:443... connected.\n",
            "HTTP request sent, awaiting response... 303 See Other\n",
            "Location: https://drive.usercontent.google.com/download?id=12pgHOpJ8sRzF_rcnGE-xjAx3Eacu5W97&export=download [following]\n",
            "--2024-11-27 05:44:21--  https://drive.usercontent.google.com/download?id=12pgHOpJ8sRzF_rcnGE-xjAx3Eacu5W97&export=download\n",
            "Resolving drive.usercontent.google.com (drive.usercontent.google.com)... 74.125.135.132, 2607:f8b0:400e:c01::84\n",
            "Connecting to drive.usercontent.google.com (drive.usercontent.google.com)|74.125.135.132|:443... connected.\n",
            "HTTP request sent, awaiting response... 200 OK\n",
            "Length: 896061 (875K) [application/octet-stream]\n",
            "Saving to: ‘data.zip’\n",
            "\n",
            "data.zip            100%[===================>] 875.06K  --.-KB/s    in 0.008s  \n",
            "\n",
            "2024-11-27 05:44:24 (112 MB/s) - ‘data.zip’ saved [896061/896061]\n",
            "\n",
            "Archive:  data.zip\n",
            "  inflating: data.tsv                \n",
            "  inflating: data_filtered_test.csv  \n"
          ]
        }
      ],
      "source": [
        "# Install library and download data\n",
        "\n",
        "! pip install nose\n",
        "! pip install numpy\n",
        "! pip install pandas\n",
        "! pip install matplotlib\n",
        "\n",
        "! wget -c 'https://drive.google.com/uc?export=download&id=12pgHOpJ8sRzF_rcnGE-xjAx3Eacu5W97' -O data.zip\n",
        "! unzip -o data.zip"
      ]
    },
    {
      "cell_type": "code",
      "execution_count": 3,
      "metadata": {
        "id": "7SuHJbqkIDuR"
      },
      "outputs": [],
      "source": [
        "import copy\n",
        "import sys\n",
        "\n",
        "import nose.tools as nt\n",
        "import numpy as np\n",
        "import pandas as pd\n",
        "import matplotlib.pyplot as plt\n",
        "\n",
        "from scipy.special import logsumexp\n",
        "from scipy.stats import norm\n",
        "from scipy.cluster import hierarchy"
      ]
    },
    {
      "cell_type": "markdown",
      "metadata": {
        "id": "hMq2hkGyIDuT"
      },
      "source": [
        "## Question 1: Data preparation [20 points]\n",
        "\n",
        "We start by parsing the data from `data.tsv` using pandas."
      ]
    },
    {
      "cell_type": "code",
      "execution_count": 4,
      "metadata": {
        "colab": {
          "base_uri": "https://localhost:8080/",
          "height": 287
        },
        "id": "T8W7ltDiIDuU",
        "outputId": "f3df427f-07e5-417a-c6fc-aa8d3edac08c"
      },
      "outputs": [
        {
          "output_type": "execute_result",
          "data": {
            "text/plain": [
              "      CHR    START      END  SRR089377  SRR054598  SRR053605  SRR054594  \\\n",
              "bin                                                                       \n",
              "0    chr1        1  1246396       2116        298        573        157   \n",
              "1    chr1  1246395  1833664       1940        264        660        204   \n",
              "2    chr1  1833663  2345598       1767        261        870        237   \n",
              "3    chr1  2345597  2946628       2246        446        854        265   \n",
              "4    chr1  2946627  3452945       2189        363        883        217   \n",
              "\n",
              "     SRR089397  SRR054614  SRR089402  ...  SRR054606  SRR054613  SRR053631  \\\n",
              "bin                                   ...                                    \n",
              "0         3146       1495       4071  ...        854       1583       1106   \n",
              "1         1643       1207       3809  ...        651        848       1252   \n",
              "2         1655       1621       5418  ...        707       1372       1342   \n",
              "3         1564       1838       5625  ...       1227       1172       1578   \n",
              "4         2081       1173       4845  ...        687       1371       1562   \n",
              "\n",
              "     SRR054575  SRR053679  SRR054604  SRR053611  SRR053607  SRR053602  \\\n",
              "bin                                                                     \n",
              "0         1847        795        562       1211        636        751   \n",
              "1         2024        830        584        836        475        673   \n",
              "2         2531       1153        874        936        630        818   \n",
              "3         2909       1373        884       1184        604        973   \n",
              "4         3235       1053        854        785        649        784   \n",
              "\n",
              "     SRR054610  \n",
              "bin             \n",
              "0         1520  \n",
              "1         1185  \n",
              "2         1366  \n",
              "3         1701  \n",
              "4         1212  \n",
              "\n",
              "[5 rows x 28 columns]"
            ],
            "text/html": [
              "\n",
              "  <div id=\"df-cf8a5893-2f04-4d0e-9870-240b6e17aeb2\" class=\"colab-df-container\">\n",
              "    <div>\n",
              "<style scoped>\n",
              "    .dataframe tbody tr th:only-of-type {\n",
              "        vertical-align: middle;\n",
              "    }\n",
              "\n",
              "    .dataframe tbody tr th {\n",
              "        vertical-align: top;\n",
              "    }\n",
              "\n",
              "    .dataframe thead th {\n",
              "        text-align: right;\n",
              "    }\n",
              "</style>\n",
              "<table border=\"1\" class=\"dataframe\">\n",
              "  <thead>\n",
              "    <tr style=\"text-align: right;\">\n",
              "      <th></th>\n",
              "      <th>CHR</th>\n",
              "      <th>START</th>\n",
              "      <th>END</th>\n",
              "      <th>SRR089377</th>\n",
              "      <th>SRR054598</th>\n",
              "      <th>SRR053605</th>\n",
              "      <th>SRR054594</th>\n",
              "      <th>SRR089397</th>\n",
              "      <th>SRR054614</th>\n",
              "      <th>SRR089402</th>\n",
              "      <th>...</th>\n",
              "      <th>SRR054606</th>\n",
              "      <th>SRR054613</th>\n",
              "      <th>SRR053631</th>\n",
              "      <th>SRR054575</th>\n",
              "      <th>SRR053679</th>\n",
              "      <th>SRR054604</th>\n",
              "      <th>SRR053611</th>\n",
              "      <th>SRR053607</th>\n",
              "      <th>SRR053602</th>\n",
              "      <th>SRR054610</th>\n",
              "    </tr>\n",
              "    <tr>\n",
              "      <th>bin</th>\n",
              "      <th></th>\n",
              "      <th></th>\n",
              "      <th></th>\n",
              "      <th></th>\n",
              "      <th></th>\n",
              "      <th></th>\n",
              "      <th></th>\n",
              "      <th></th>\n",
              "      <th></th>\n",
              "      <th></th>\n",
              "      <th></th>\n",
              "      <th></th>\n",
              "      <th></th>\n",
              "      <th></th>\n",
              "      <th></th>\n",
              "      <th></th>\n",
              "      <th></th>\n",
              "      <th></th>\n",
              "      <th></th>\n",
              "      <th></th>\n",
              "      <th></th>\n",
              "    </tr>\n",
              "  </thead>\n",
              "  <tbody>\n",
              "    <tr>\n",
              "      <th>0</th>\n",
              "      <td>chr1</td>\n",
              "      <td>1</td>\n",
              "      <td>1246396</td>\n",
              "      <td>2116</td>\n",
              "      <td>298</td>\n",
              "      <td>573</td>\n",
              "      <td>157</td>\n",
              "      <td>3146</td>\n",
              "      <td>1495</td>\n",
              "      <td>4071</td>\n",
              "      <td>...</td>\n",
              "      <td>854</td>\n",
              "      <td>1583</td>\n",
              "      <td>1106</td>\n",
              "      <td>1847</td>\n",
              "      <td>795</td>\n",
              "      <td>562</td>\n",
              "      <td>1211</td>\n",
              "      <td>636</td>\n",
              "      <td>751</td>\n",
              "      <td>1520</td>\n",
              "    </tr>\n",
              "    <tr>\n",
              "      <th>1</th>\n",
              "      <td>chr1</td>\n",
              "      <td>1246395</td>\n",
              "      <td>1833664</td>\n",
              "      <td>1940</td>\n",
              "      <td>264</td>\n",
              "      <td>660</td>\n",
              "      <td>204</td>\n",
              "      <td>1643</td>\n",
              "      <td>1207</td>\n",
              "      <td>3809</td>\n",
              "      <td>...</td>\n",
              "      <td>651</td>\n",
              "      <td>848</td>\n",
              "      <td>1252</td>\n",
              "      <td>2024</td>\n",
              "      <td>830</td>\n",
              "      <td>584</td>\n",
              "      <td>836</td>\n",
              "      <td>475</td>\n",
              "      <td>673</td>\n",
              "      <td>1185</td>\n",
              "    </tr>\n",
              "    <tr>\n",
              "      <th>2</th>\n",
              "      <td>chr1</td>\n",
              "      <td>1833663</td>\n",
              "      <td>2345598</td>\n",
              "      <td>1767</td>\n",
              "      <td>261</td>\n",
              "      <td>870</td>\n",
              "      <td>237</td>\n",
              "      <td>1655</td>\n",
              "      <td>1621</td>\n",
              "      <td>5418</td>\n",
              "      <td>...</td>\n",
              "      <td>707</td>\n",
              "      <td>1372</td>\n",
              "      <td>1342</td>\n",
              "      <td>2531</td>\n",
              "      <td>1153</td>\n",
              "      <td>874</td>\n",
              "      <td>936</td>\n",
              "      <td>630</td>\n",
              "      <td>818</td>\n",
              "      <td>1366</td>\n",
              "    </tr>\n",
              "    <tr>\n",
              "      <th>3</th>\n",
              "      <td>chr1</td>\n",
              "      <td>2345597</td>\n",
              "      <td>2946628</td>\n",
              "      <td>2246</td>\n",
              "      <td>446</td>\n",
              "      <td>854</td>\n",
              "      <td>265</td>\n",
              "      <td>1564</td>\n",
              "      <td>1838</td>\n",
              "      <td>5625</td>\n",
              "      <td>...</td>\n",
              "      <td>1227</td>\n",
              "      <td>1172</td>\n",
              "      <td>1578</td>\n",
              "      <td>2909</td>\n",
              "      <td>1373</td>\n",
              "      <td>884</td>\n",
              "      <td>1184</td>\n",
              "      <td>604</td>\n",
              "      <td>973</td>\n",
              "      <td>1701</td>\n",
              "    </tr>\n",
              "    <tr>\n",
              "      <th>4</th>\n",
              "      <td>chr1</td>\n",
              "      <td>2946627</td>\n",
              "      <td>3452945</td>\n",
              "      <td>2189</td>\n",
              "      <td>363</td>\n",
              "      <td>883</td>\n",
              "      <td>217</td>\n",
              "      <td>2081</td>\n",
              "      <td>1173</td>\n",
              "      <td>4845</td>\n",
              "      <td>...</td>\n",
              "      <td>687</td>\n",
              "      <td>1371</td>\n",
              "      <td>1562</td>\n",
              "      <td>3235</td>\n",
              "      <td>1053</td>\n",
              "      <td>854</td>\n",
              "      <td>785</td>\n",
              "      <td>649</td>\n",
              "      <td>784</td>\n",
              "      <td>1212</td>\n",
              "    </tr>\n",
              "  </tbody>\n",
              "</table>\n",
              "<p>5 rows × 28 columns</p>\n",
              "</div>\n",
              "    <div class=\"colab-df-buttons\">\n",
              "\n",
              "  <div class=\"colab-df-container\">\n",
              "    <button class=\"colab-df-convert\" onclick=\"convertToInteractive('df-cf8a5893-2f04-4d0e-9870-240b6e17aeb2')\"\n",
              "            title=\"Convert this dataframe to an interactive table.\"\n",
              "            style=\"display:none;\">\n",
              "\n",
              "  <svg xmlns=\"http://www.w3.org/2000/svg\" height=\"24px\" viewBox=\"0 -960 960 960\">\n",
              "    <path d=\"M120-120v-720h720v720H120Zm60-500h600v-160H180v160Zm220 220h160v-160H400v160Zm0 220h160v-160H400v160ZM180-400h160v-160H180v160Zm440 0h160v-160H620v160ZM180-180h160v-160H180v160Zm440 0h160v-160H620v160Z\"/>\n",
              "  </svg>\n",
              "    </button>\n",
              "\n",
              "  <style>\n",
              "    .colab-df-container {\n",
              "      display:flex;\n",
              "      gap: 12px;\n",
              "    }\n",
              "\n",
              "    .colab-df-convert {\n",
              "      background-color: #E8F0FE;\n",
              "      border: none;\n",
              "      border-radius: 50%;\n",
              "      cursor: pointer;\n",
              "      display: none;\n",
              "      fill: #1967D2;\n",
              "      height: 32px;\n",
              "      padding: 0 0 0 0;\n",
              "      width: 32px;\n",
              "    }\n",
              "\n",
              "    .colab-df-convert:hover {\n",
              "      background-color: #E2EBFA;\n",
              "      box-shadow: 0px 1px 2px rgba(60, 64, 67, 0.3), 0px 1px 3px 1px rgba(60, 64, 67, 0.15);\n",
              "      fill: #174EA6;\n",
              "    }\n",
              "\n",
              "    .colab-df-buttons div {\n",
              "      margin-bottom: 4px;\n",
              "    }\n",
              "\n",
              "    [theme=dark] .colab-df-convert {\n",
              "      background-color: #3B4455;\n",
              "      fill: #D2E3FC;\n",
              "    }\n",
              "\n",
              "    [theme=dark] .colab-df-convert:hover {\n",
              "      background-color: #434B5C;\n",
              "      box-shadow: 0px 1px 3px 1px rgba(0, 0, 0, 0.15);\n",
              "      filter: drop-shadow(0px 1px 2px rgba(0, 0, 0, 0.3));\n",
              "      fill: #FFFFFF;\n",
              "    }\n",
              "  </style>\n",
              "\n",
              "    <script>\n",
              "      const buttonEl =\n",
              "        document.querySelector('#df-cf8a5893-2f04-4d0e-9870-240b6e17aeb2 button.colab-df-convert');\n",
              "      buttonEl.style.display =\n",
              "        google.colab.kernel.accessAllowed ? 'block' : 'none';\n",
              "\n",
              "      async function convertToInteractive(key) {\n",
              "        const element = document.querySelector('#df-cf8a5893-2f04-4d0e-9870-240b6e17aeb2');\n",
              "        const dataTable =\n",
              "          await google.colab.kernel.invokeFunction('convertToInteractive',\n",
              "                                                    [key], {});\n",
              "        if (!dataTable) return;\n",
              "\n",
              "        const docLinkHtml = 'Like what you see? Visit the ' +\n",
              "          '<a target=\"_blank\" href=https://colab.research.google.com/notebooks/data_table.ipynb>data table notebook</a>'\n",
              "          + ' to learn more about interactive tables.';\n",
              "        element.innerHTML = '';\n",
              "        dataTable['output_type'] = 'display_data';\n",
              "        await google.colab.output.renderOutput(dataTable, element);\n",
              "        const docLink = document.createElement('div');\n",
              "        docLink.innerHTML = docLinkHtml;\n",
              "        element.appendChild(docLink);\n",
              "      }\n",
              "    </script>\n",
              "  </div>\n",
              "\n",
              "\n",
              "<div id=\"df-4cfa6519-3b3d-40f4-b4d3-794f6bc90978\">\n",
              "  <button class=\"colab-df-quickchart\" onclick=\"quickchart('df-4cfa6519-3b3d-40f4-b4d3-794f6bc90978')\"\n",
              "            title=\"Suggest charts\"\n",
              "            style=\"display:none;\">\n",
              "\n",
              "<svg xmlns=\"http://www.w3.org/2000/svg\" height=\"24px\"viewBox=\"0 0 24 24\"\n",
              "     width=\"24px\">\n",
              "    <g>\n",
              "        <path d=\"M19 3H5c-1.1 0-2 .9-2 2v14c0 1.1.9 2 2 2h14c1.1 0 2-.9 2-2V5c0-1.1-.9-2-2-2zM9 17H7v-7h2v7zm4 0h-2V7h2v10zm4 0h-2v-4h2v4z\"/>\n",
              "    </g>\n",
              "</svg>\n",
              "  </button>\n",
              "\n",
              "<style>\n",
              "  .colab-df-quickchart {\n",
              "      --bg-color: #E8F0FE;\n",
              "      --fill-color: #1967D2;\n",
              "      --hover-bg-color: #E2EBFA;\n",
              "      --hover-fill-color: #174EA6;\n",
              "      --disabled-fill-color: #AAA;\n",
              "      --disabled-bg-color: #DDD;\n",
              "  }\n",
              "\n",
              "  [theme=dark] .colab-df-quickchart {\n",
              "      --bg-color: #3B4455;\n",
              "      --fill-color: #D2E3FC;\n",
              "      --hover-bg-color: #434B5C;\n",
              "      --hover-fill-color: #FFFFFF;\n",
              "      --disabled-bg-color: #3B4455;\n",
              "      --disabled-fill-color: #666;\n",
              "  }\n",
              "\n",
              "  .colab-df-quickchart {\n",
              "    background-color: var(--bg-color);\n",
              "    border: none;\n",
              "    border-radius: 50%;\n",
              "    cursor: pointer;\n",
              "    display: none;\n",
              "    fill: var(--fill-color);\n",
              "    height: 32px;\n",
              "    padding: 0;\n",
              "    width: 32px;\n",
              "  }\n",
              "\n",
              "  .colab-df-quickchart:hover {\n",
              "    background-color: var(--hover-bg-color);\n",
              "    box-shadow: 0 1px 2px rgba(60, 64, 67, 0.3), 0 1px 3px 1px rgba(60, 64, 67, 0.15);\n",
              "    fill: var(--button-hover-fill-color);\n",
              "  }\n",
              "\n",
              "  .colab-df-quickchart-complete:disabled,\n",
              "  .colab-df-quickchart-complete:disabled:hover {\n",
              "    background-color: var(--disabled-bg-color);\n",
              "    fill: var(--disabled-fill-color);\n",
              "    box-shadow: none;\n",
              "  }\n",
              "\n",
              "  .colab-df-spinner {\n",
              "    border: 2px solid var(--fill-color);\n",
              "    border-color: transparent;\n",
              "    border-bottom-color: var(--fill-color);\n",
              "    animation:\n",
              "      spin 1s steps(1) infinite;\n",
              "  }\n",
              "\n",
              "  @keyframes spin {\n",
              "    0% {\n",
              "      border-color: transparent;\n",
              "      border-bottom-color: var(--fill-color);\n",
              "      border-left-color: var(--fill-color);\n",
              "    }\n",
              "    20% {\n",
              "      border-color: transparent;\n",
              "      border-left-color: var(--fill-color);\n",
              "      border-top-color: var(--fill-color);\n",
              "    }\n",
              "    30% {\n",
              "      border-color: transparent;\n",
              "      border-left-color: var(--fill-color);\n",
              "      border-top-color: var(--fill-color);\n",
              "      border-right-color: var(--fill-color);\n",
              "    }\n",
              "    40% {\n",
              "      border-color: transparent;\n",
              "      border-right-color: var(--fill-color);\n",
              "      border-top-color: var(--fill-color);\n",
              "    }\n",
              "    60% {\n",
              "      border-color: transparent;\n",
              "      border-right-color: var(--fill-color);\n",
              "    }\n",
              "    80% {\n",
              "      border-color: transparent;\n",
              "      border-right-color: var(--fill-color);\n",
              "      border-bottom-color: var(--fill-color);\n",
              "    }\n",
              "    90% {\n",
              "      border-color: transparent;\n",
              "      border-bottom-color: var(--fill-color);\n",
              "    }\n",
              "  }\n",
              "</style>\n",
              "\n",
              "  <script>\n",
              "    async function quickchart(key) {\n",
              "      const quickchartButtonEl =\n",
              "        document.querySelector('#' + key + ' button');\n",
              "      quickchartButtonEl.disabled = true;  // To prevent multiple clicks.\n",
              "      quickchartButtonEl.classList.add('colab-df-spinner');\n",
              "      try {\n",
              "        const charts = await google.colab.kernel.invokeFunction(\n",
              "            'suggestCharts', [key], {});\n",
              "      } catch (error) {\n",
              "        console.error('Error during call to suggestCharts:', error);\n",
              "      }\n",
              "      quickchartButtonEl.classList.remove('colab-df-spinner');\n",
              "      quickchartButtonEl.classList.add('colab-df-quickchart-complete');\n",
              "    }\n",
              "    (() => {\n",
              "      let quickchartButtonEl =\n",
              "        document.querySelector('#df-4cfa6519-3b3d-40f4-b4d3-794f6bc90978 button');\n",
              "      quickchartButtonEl.style.display =\n",
              "        google.colab.kernel.accessAllowed ? 'block' : 'none';\n",
              "    })();\n",
              "  </script>\n",
              "</div>\n",
              "\n",
              "    </div>\n",
              "  </div>\n"
            ],
            "application/vnd.google.colaboratory.intrinsic+json": {
              "type": "dataframe",
              "variable_name": "df"
            }
          },
          "metadata": {},
          "execution_count": 4
        }
      ],
      "source": [
        "df = pd.read_csv(\"data.tsv\", sep=\"\\t\", index_col=0)\n",
        "df.head()"
      ]
    },
    {
      "cell_type": "markdown",
      "metadata": {
        "id": "rK7XmPGPIDuW"
      },
      "source": [
        "This dataset consists of the following 25 cells:"
      ]
    },
    {
      "cell_type": "code",
      "execution_count": 5,
      "metadata": {
        "colab": {
          "base_uri": "https://localhost:8080/"
        },
        "id": "81aQw96fIDuY",
        "outputId": "5e0d0c7e-a737-4298-fe93-691d818eb3c9"
      },
      "outputs": [
        {
          "output_type": "stream",
          "name": "stdout",
          "text": [
            "Cells:\n",
            "SRR089377 SRR054598 SRR053605 SRR054594 SRR089397 \n",
            "SRR054614 SRR089402 SRR053676 SRR053633 SRR053617 \n",
            "SRR054608 SRR053608 SRR054602 SRR089401 SRR053668 \n",
            "SRR054606 SRR054613 SRR053631 SRR054575 SRR053679 \n",
            "SRR054604 SRR053611 SRR053607 SRR053602 SRR054610 "
          ]
        }
      ],
      "source": [
        "cells = list(df.columns[3:])\n",
        "sys.stdout.write(\"Cells:\")\n",
        "for idx, cell in enumerate(cells):\n",
        "    if idx % 5 == 0:\n",
        "        sys.stdout.write(\"\\n\")\n",
        "    sys.stdout.write(cell + \" \")"
      ]
    },
    {
      "cell_type": "markdown",
      "metadata": {
        "id": "oogHKUnmIDud"
      },
      "source": [
        "The reads of each cell are put in bins. As seen in the command below, there are 5363 bins."
      ]
    },
    {
      "cell_type": "code",
      "execution_count": 6,
      "metadata": {
        "colab": {
          "base_uri": "https://localhost:8080/"
        },
        "id": "C98YruFaIDud",
        "outputId": "0a6065a7-1624-42bf-8e55-103d112fdfda"
      },
      "outputs": [
        {
          "output_type": "execute_result",
          "data": {
            "text/plain": [
              "5363"
            ]
          },
          "metadata": {},
          "execution_count": 6
        }
      ],
      "source": [
        "len(df.index)"
      ]
    },
    {
      "cell_type": "markdown",
      "metadata": {
        "id": "jQjOBP06IDug"
      },
      "source": [
        "We plot a histogram of the bin sizes as follows, from which we can see that most of the bins have length 500,000."
      ]
    },
    {
      "cell_type": "code",
      "execution_count": 7,
      "metadata": {
        "colab": {
          "base_uri": "https://localhost:8080/",
          "height": 476
        },
        "id": "VqFJaYlhIDuh",
        "outputId": "27e40fff-3245-49bc-bfce-52aa14aca88e"
      },
      "outputs": [
        {
          "output_type": "execute_result",
          "data": {
            "text/plain": [
              "(400000.0, 1000000.0)"
            ]
          },
          "metadata": {},
          "execution_count": 7
        },
        {
          "output_type": "display_data",
          "data": {
            "text/plain": [
              "<Figure size 640x480 with 1 Axes>"
            ],
            "image/png": "[encoded data removed]"
          },
          "metadata": {}
        }
      ],
      "source": [
        "(df['END'] - df['START'] + 1).hist(bins=1000, xrot=90)\n",
        "plt.xlim((400000, 1000000))"
      ]
    },
    {
      "cell_type": "markdown",
      "metadata": {
        "id": "8GvB_2qRIDuk"
      },
      "source": [
        "### _Q1a:_ What is the minimum, median and maximum bin size? [4 points]\n",
        "\n",
        "Set the values of `minimum`, `median`, and `maximum` according to the minimum, median and maximum bin size."
      ]
    },
    {
      "cell_type": "code",
      "execution_count": 8,
      "metadata": {
        "colab": {
          "base_uri": "https://localhost:8080/"
        },
        "id": "90sub2C9IDul",
        "outputId": "a705229e-7b45-407b-fb44-724c492e9504"
      },
      "outputs": [
        {
          "output_type": "stream",
          "name": "stdout",
          "text": [
            "0 0.0 4802\n"
          ]
        }
      ],
      "source": [
        "minimum, median, maximum = None, None, None\n",
        "hist_counts, edges = np.histogram(df['END'] - df['START'] + 1, bins = 1000)\n",
        "minimum, median, maximum = hist_counts.min(), np.median(hist_counts), hist_counts.max()\n",
        "print(minimum, median, maximum)"
      ]
    },
    {
      "cell_type": "markdown",
      "metadata": {
        "id": "arYT7cQkIDuv"
      },
      "source": [
        "We retain bins with lengths between 450,000 and 500,000 using the following command."
      ]
    },
    {
      "cell_type": "code",
      "execution_count": 9,
      "metadata": {
        "id": "CF4GUC89IDuw"
      },
      "outputs": [],
      "source": [
        "df = df[(450000 <= (df['END'] - df['START'] + 1)) & ((df['END'] - df['START'] + 1) <= 550000)]"
      ]
    },
    {
      "cell_type": "markdown",
      "metadata": {
        "id": "AVOymh0DIDuz"
      },
      "source": [
        "### _Q1b:_ The column `CHR` contains the chromosome label. Do these cells originate from a male or female patient? [4 points]\n",
        "\n",
        "Write code here to print unique list of values in `'CHR'` column, this should give you the information you need.\n",
        "\n",
        "Set the value of `is_female` to `True` or `False` based on the answer to this question."
      ]
    },
    {
      "cell_type": "code",
      "execution_count": 10,
      "metadata": {
        "colab": {
          "base_uri": "https://localhost:8080/"
        },
        "id": "l96ozBltbEoN",
        "outputId": "1afdb4cc-6405-49d9-ee02-949e5f6ef37d"
      },
      "outputs": [
        {
          "output_type": "stream",
          "name": "stdout",
          "text": [
            "0 chr1\n",
            "1 chr2\n",
            "2 chr3\n",
            "3 chr4\n",
            "4 chr5\n",
            "5 chr6\n",
            "6 chr7\n",
            "7 chr8\n",
            "8 chr9\n",
            "9 chr10\n",
            "10 chr11\n",
            "11 chr12\n",
            "12 chr13\n",
            "13 chr14\n",
            "14 chr15\n",
            "15 chr16\n",
            "16 chr17\n",
            "17 chr18\n",
            "18 chr19\n",
            "19 chr20\n",
            "20 chr21\n",
            "21 chr22\n",
            "22 chrX\n",
            "23 chrY\n"
          ]
        }
      ],
      "source": [
        "chr_vals = df['CHR'].unique()\n",
        "for (idx, val) in enumerate(chr_vals):\n",
        "    print(idx, val)"
      ]
    },
    {
      "cell_type": "code",
      "execution_count": 11,
      "metadata": {
        "id": "KlBsy4-LIDuz"
      },
      "outputs": [],
      "source": [
        "is_female = None\n",
        "##XX - Female\n",
        "#XY - Male\n",
        "if (df['CHR'].unique()[23] == 'chrY'):\n",
        "    is_female = False\n",
        "else:\n",
        "    is_female = True"
      ]
    },
    {
      "cell_type": "markdown",
      "metadata": {
        "id": "YJjqQlyRIDu5"
      },
      "source": [
        "Next, we remove the sex chromosomes such that each bin in a normal cell has copy number 2.\n",
        "\n",
        "### _Q1c:_ How many bins occur on autosomal chromosomes? [4 points]\n",
        "\n",
        "Insert code to generate a list of chromosome labels corresponding to autosomes, e.g. `['chr1', 'chr2', ...]`.\n",
        "\n",
        "The value of `autosomal_bins` is set to the number of bins that are in this list."
      ]
    },
    {
      "cell_type": "code",
      "execution_count": 12,
      "metadata": {
        "id": "cnSuZvRFIDu6"
      },
      "outputs": [],
      "source": [
        "# Make a list of autosomes\n",
        "autosomes = []\n",
        "for i in range(1, 23):\n",
        "    autosomes.append(f\"chr{i}\")\n",
        "\n",
        "\n",
        "autosomal_bins = len(df[df['CHR'].isin(autosomes)])"
      ]
    },
    {
      "cell_type": "code",
      "execution_count": 13,
      "metadata": {
        "id": "2b_ONadcIDu-"
      },
      "outputs": [],
      "source": [
        "# Now retain only autosomes\n",
        "df_auto = df[df['CHR'].isin(autosomes)]"
      ]
    },
    {
      "cell_type": "markdown",
      "metadata": {
        "id": "6QAR-QCJIDvI"
      },
      "source": [
        "Due to variablity in library preparation, there are differences in the total number of reads per cell. We construct a new dataframe with the total number of reads, and plot a histogram as follows."
      ]
    },
    {
      "cell_type": "code",
      "execution_count": 14,
      "metadata": {
        "colab": {
          "base_uri": "https://localhost:8080/",
          "height": 496
        },
        "id": "r0IhjytWIDvI",
        "outputId": "ac93b9fb-79a2-4c99-9cd6-df9528e14c5f"
      },
      "outputs": [
        {
          "output_type": "execute_result",
          "data": {
            "text/plain": [
              "array([[<Axes: title={'center': 'total'}>]], dtype=object)"
            ]
          },
          "metadata": {},
          "execution_count": 14
        },
        {
          "output_type": "display_data",
          "data": {
            "text/plain": [
              "<Figure size 640x480 with 1 Axes>"
            ],
            "image/png": "[encoded data removed]"
          },
          "metadata": {}
        }
      ],
      "source": [
        "df_total_reads = pd.DataFrame.from_records([(cell, int(df_auto[cell].sum())) for cell in cells], columns=['cell', 'total'])\n",
        "df_total_reads.hist(column=\"total\", bins=15, xrot=90)"
      ]
    },
    {
      "cell_type": "markdown",
      "metadata": {
        "id": "AwHwhAtxIDvL"
      },
      "source": [
        "### _Q1d:_ Based on the above plot, we decide to exclude the six cells with a total read count of less than 3,000,000 reads. Which six cells are excluded? [4 points]\n",
        "\n",
        "You are given the code for the cells that we include.\n",
        "\n",
        "Set `df_removed_cells` to a DataFrame corresponding to the excluded cells, i.e. those with total read count of less than 3,000,000 reads. Note the type of `df_removed_cells` is not the same as that of `cells_to_keep`, which is a list. Rather, `df_removed_cells` is a DataFrame with two columns `'cell'` representing the name of the cell and `'total'` corresponding with the total read count of that cell.\n",
        "\n",
        "Specifically, it should be the case that:\n",
        "    `type(df_removed_cells) == type(df_total_reads)`"
      ]
    },
    {
      "cell_type": "code",
      "execution_count": 15,
      "metadata": {
        "id": "rKmZ1BDpIDvL"
      },
      "outputs": [],
      "source": [
        "# insert code to filter down to cells with less 3,000,000 reads\n",
        "\n",
        "cells_to_keep = list(df_total_reads[df_total_reads['total'] >= 3000000]['cell'])\n",
        "df_removed_cells = df_total_reads[df_total_reads['total'] < 3000000]\n",
        "\n"
      ]
    },
    {
      "cell_type": "code",
      "execution_count": 16,
      "metadata": {
        "id": "VC6jiHYoIDvQ"
      },
      "outputs": [],
      "source": [
        "# we retain only cells with >= 300,000 reads\n",
        "df_auto = df_auto[list(df_auto.columns)[:3] + cells_to_keep]"
      ]
    },
    {
      "cell_type": "markdown",
      "metadata": {
        "id": "xnaUTbvUIDvS"
      },
      "source": [
        "### _Q1e:_ Complete the below code fragment to identify the mode of each cell and to subsequently normalize the read counts. [4 points]\n",
        "\n",
        "The key concept is that the majority of bins in a cell are diploid. Since the bins have the same length and under the assumption of uniform genome coverage, we expect the most frequent read count, or the mode, to correspond to the diploid state. We identify the mode by discretizing the read counts for each cell into 20 bins. We then divide the read count for each bin in a cell by the mode.\n",
        "\n",
        "Make sure to discretize first prior to computing mode. The goal is to have 20 distinct values of reads counts per cell, this allows you to obtain the mode more robustly. To do so, for each cell, you must first identify the largest number of reads. Then, you divide the largest number of reads by 20 (use integer division). Then you need to round down your original number of reads to the nearest discretized number of reads (again possible using integer division).\n",
        "\n",
        "Please put the result of dividing the read counts in `df_auto` into `df_filter`."
      ]
    },
    {
      "cell_type": "code",
      "execution_count": 17,
      "metadata": {
        "id": "sOTXJ0aWIDvT"
      },
      "outputs": [],
      "source": [
        "nr_bins = 20\n",
        "\n",
        "# Use df2 to discretize read count\n",
        "df2 = df_auto.copy(deep=True)\n",
        "\n",
        "# Use df_filter to normalize\n",
        "df_filter = df_auto.copy(deep=True)\n",
        "\n",
        "#Divide floor remultiply - discretes bins\n",
        "for cell in cells_to_keep:\n",
        "    df2[cell] = df2[cell] / df2[cell].max() * nr_bins\n",
        "    df2[cell] = df2[cell].apply(np.floor).astype(int)\n",
        "#int issue - Called below - caused by above \"Use int ser.iloc[0]\"\n",
        "\n",
        "\n",
        "df_mode = pd.DataFrame.from_records([(cell, int(df2[cell].mode().iloc[0])) for cell in cells_to_keep],\n",
        "                                    columns=['cell', 'mode'])\n",
        "\n",
        "# insert code to divide each read count in df_filter by the mode of the corresponding cell\n",
        "for cell in cells_to_keep:\n",
        "    mode_val = df_mode[df_mode['cell'] == cell]['mode'].values[0]\n",
        "    df_filter[cell] = df_filter[cell] / mode_val"
      ]
    },
    {
      "cell_type": "markdown",
      "metadata": {
        "id": "BfyXmEA5IDvY"
      },
      "source": [
        "## Question 2: Viterbi algorithm [50 points]\n",
        "\n",
        "In this question we use the Viterbi algorithm to compute a copy number for each bin. The set $Q$ of hidden states corresponds to integer copy numbers. We consider $Q=\\{0,\\ldots,10\\}$. The set $\\Sigma$ of emitted symbols are normalized read counts. Since this an infinite set, we use a probability distribution function for each integer copy number to define the emission probabilities. Specifically, for copy number $c \\in \\{0,\\ldots,10\\}$ we use a normal distribution with standard deviation $\\sigma = 0.1$ centered around mean $\\mu_c = c / 2$."
      ]
    },
    {
      "cell_type": "code",
      "execution_count": 18,
      "metadata": {
        "id": "zhHW-Zd5IDvZ"
      },
      "outputs": [],
      "source": [
        "df_norm = pd.read_table(\"data_filtered_test.csv\", sep=\"\\t\", index_col=0)"
      ]
    },
    {
      "cell_type": "code",
      "execution_count": 19,
      "metadata": {
        "colab": {
          "base_uri": "https://localhost:8080/",
          "height": 522
        },
        "id": "asKRYgJ0IDvc",
        "outputId": "508f2506-ec61-4c27-88c5-0f45a7edb843"
      },
      "outputs": [
        {
          "output_type": "display_data",
          "data": {
            "text/plain": [
              "<Figure size 1000x600 with 1 Axes>"
            ],
            "image/png": "[encoded data removed]"
          },
          "metadata": {}
        }
      ],
      "source": [
        "def gauss(x, mu, sigma, A):\n",
        "    return A*np.exp(-(x-mu)**2/2/sigma**2)\n",
        "\n",
        "values = [val for sublist in [list(df_norm[cell]) for cell in list(df_norm.columns[3:])] for val in sublist]\n",
        "count, bins, ignored = plt.hist(values, 100, density=True)\n",
        "\n",
        "sigma = 0.1\n",
        "\n",
        "plt.plot(np.array([0,.05,.1,.15,.2]),gauss(np.array([0,.05,.1,.15,.2]), 0, sigma, .01),color='black',lw=3,label='copy number 0')\n",
        "plt.plot(bins,gauss(bins, 0.5, sigma, .25),color='red',lw=3,label='copy number 1')\n",
        "plt.plot(bins,gauss(bins, 1, sigma, 1.3),color='blue',lw=3,label='copy number 2')\n",
        "plt.plot(bins,gauss(bins, 1.5, sigma, .7),color='cyan',lw=3,label='copy number 3')\n",
        "plt.plot(bins,gauss(bins, 2, sigma, .25),color='orange',lw=3,label='copy number 4')\n",
        "plt.plot(bins,gauss(bins, 2.5, sigma, .1),color='purple',lw=3,label='copy number 5')\n",
        "plt.plot(bins,gauss(bins, 3, sigma, .05),color='pink',lw=3,label='copy number 6')\n",
        "plt.plot(bins,gauss(bins, 3.5, sigma, .05),color='gray',lw=3,label='copy number 7')\n",
        "plt.plot(bins,gauss(bins, 4, sigma, .05),color='yellow',lw=3,label='copy number 8')\n",
        "plt.plot(bins,gauss(bins, 4.5, sigma, .05),color='pink',lw=3,label='copy number 9')\n",
        "plt.plot(bins,gauss(bins, 5, sigma, .05),color='black',lw=3,label='copy number 10')\n",
        "\n",
        "plt.legend()\n",
        "plt.gcf().set_size_inches(10, 6)"
      ]
    },
    {
      "cell_type": "code",
      "execution_count": 20,
      "metadata": {
        "id": "CjqyZkKVIDve"
      },
      "outputs": [],
      "source": [
        "max_copy_number = 10\n",
        "\n",
        "def emissionLogProb(copy_number, norm_count):\n",
        "    sigma = 0.1\n",
        "    mu = copy_number / 2.\n",
        "\n",
        "    # Compute Pr(|X_c - norm_count| <= 0.01 | c)\n",
        "    low = norm.cdf(norm_count - 0.01, mu, sigma)\n",
        "    up = norm.cdf(norm_count + 0.01, mu, sigma)\n",
        "\n",
        "    # prevent probability of 0\n",
        "    prob = max(up - low, 0.0001)\n",
        "\n",
        "    return np.log(prob)\n",
        "\n",
        "def transitionLogProb(current_copy_number, next_copy_number):\n",
        "    stay_prob = 0.99999\n",
        "    if current_copy_number == next_copy_number:\n",
        "        return np.log(stay_prob)\n",
        "    elif 0 <= next_copy_number <= max_copy_number:\n",
        "        return np.log((1 - stay_prob) / max_copy_number)\n",
        "    else:\n",
        "        return np.log(0)\n",
        "\n",
        "def initialLogProb(copy_number):\n",
        "    if 0 <= copy_number <= max_copy_number:\n",
        "        return np.log(1./11)\n",
        "    else:\n",
        "        return np.log(0)"
      ]
    },
    {
      "cell_type": "markdown",
      "metadata": {
        "id": "34xRb2uZIDvh"
      },
      "source": [
        "### _Q2a:_ Compute the joint log probability of each cell having copy number 2 in all bins. [10 points]\n",
        "\n",
        "_Hint:_ Make use of the functions `emissionLogProb`, `initialLogProb` and `transitionLogProb` to set the values in the dictionary `joint_log_prob`."
      ]
    },
    {
      "cell_type": "code",
      "execution_count": 21,
      "metadata": {
        "id": "r10TmMIXIDvh"
      },
      "outputs": [],
      "source": [
        "joint_log_prob = {k:0.0 for k in list(df_norm.columns[3:])}\n",
        "for cell in list(df_norm.columns[3:]):\n",
        "    log_prob = 0\n",
        "    indices = df_norm.index\n",
        "    #use enumerate -easier readable\n",
        "    for idx, norm_count in enumerate(df_norm[cell].values):\n",
        "        if idx == 0:\n",
        "            log_prob += initialLogProb(norm_count)\n",
        "        else:\n",
        "            previous_norm_count = df_norm[cell][indices[idx - 1]]\n",
        "            log_prob += transitionLogProb(previous_norm_count, norm_count)\n",
        "            log_prob += emissionLogProb(norm_count, df_norm[cell][indices[idx]])\n",
        "    joint_log_prob[cell] = log_prob"
      ]
    },
    {
      "cell_type": "markdown",
      "metadata": {
        "id": "EqVMT8hnIDvn"
      },
      "source": [
        "### _Q2b:_ Determine the maximum joint log probability of each cell using the Viterbi algorithm. [20 points]\n",
        "\n",
        "Complete the function `viterbi`, making use of the functions `emissionLogProb`, `initialLogProb` and `transitionLogProb`.\n",
        "\n",
        "Then complete the `max_joint_prob` function. The values in the `max_joint_probability` dictionary are filled in after you complete these two functions. This dictionary is autograded."
      ]
    },
    {
      "cell_type": "code",
      "execution_count": 24,
      "metadata": {
        "colab": {
          "base_uri": "https://localhost:8080/",
          "height": 353
        },
        "id": "1HXFE2D-IDvn",
        "outputId": "f9b48606-00ab-4ee7-a434-eb82c1920baa"
      },
      "outputs": [
        {
          "output_type": "error",
          "ename": "KeyboardInterrupt",
          "evalue": "",
          "traceback": [
            "\u001b[0;31m---------------------------------------------------------------------------\u001b[0m",
            "\u001b[0;31mKeyboardInterrupt\u001b[0m                         Traceback (most recent call last)",
            "\u001b[0;32m<ipython-input-24-f4c41cde5fe9>\u001b[0m in \u001b[0;36m<cell line: 64>\u001b[0;34m()\u001b[0m\n\u001b[1;32m     63\u001b[0m \u001b[0mV\u001b[0m \u001b[0;34m=\u001b[0m \u001b[0;34m{\u001b[0m\u001b[0;34m}\u001b[0m\u001b[0;34m\u001b[0m\u001b[0;34m\u001b[0m\u001b[0m\n\u001b[1;32m     64\u001b[0m \u001b[0;32mfor\u001b[0m \u001b[0mcell\u001b[0m \u001b[0;32min\u001b[0m \u001b[0mlist\u001b[0m\u001b[0;34m(\u001b[0m\u001b[0mdf_norm\u001b[0m\u001b[0;34m.\u001b[0m\u001b[0mcolumns\u001b[0m\u001b[0;34m[\u001b[0m\u001b[0;36m3\u001b[0m\u001b[0;34m:\u001b[0m\u001b[0;34m]\u001b[0m\u001b[0;34m)\u001b[0m\u001b[0;34m:\u001b[0m\u001b[0;34m\u001b[0m\u001b[0;34m\u001b[0m\u001b[0m\n\u001b[0;32m---> 65\u001b[0;31m     \u001b[0mV\u001b[0m\u001b[0;34m[\u001b[0m\u001b[0mcell\u001b[0m\u001b[0;34m]\u001b[0m \u001b[0;34m=\u001b[0m \u001b[0mviterbi\u001b[0m\u001b[0;34m(\u001b[0m\u001b[0mdf_norm\u001b[0m\u001b[0;34m,\u001b[0m \u001b[0mcell\u001b[0m\u001b[0;34m)\u001b[0m\u001b[0;34m\u001b[0m\u001b[0;34m\u001b[0m\u001b[0m\n\u001b[0m\u001b[1;32m     66\u001b[0m     \u001b[0mmax_joint_probability\u001b[0m\u001b[0;34m[\u001b[0m\u001b[0mcell\u001b[0m\u001b[0;34m]\u001b[0m \u001b[0;34m=\u001b[0m \u001b[0mmax_joint_prob\u001b[0m\u001b[0;34m(\u001b[0m\u001b[0mdf_norm\u001b[0m\u001b[0;34m,\u001b[0m \u001b[0mV\u001b[0m\u001b[0;34m[\u001b[0m\u001b[0mcell\u001b[0m\u001b[0;34m]\u001b[0m\u001b[0;34m)\u001b[0m\u001b[0;34m\u001b[0m\u001b[0;34m\u001b[0m\u001b[0m\n",
            "\u001b[0;32m<ipython-input-24-f4c41cde5fe9>\u001b[0m in \u001b[0;36mviterbi\u001b[0;34m(df_norm, cell)\u001b[0m\n\u001b[1;32m     22\u001b[0m           \u001b[0mmax_probability\u001b[0m \u001b[0;34m=\u001b[0m \u001b[0;34m-\u001b[0m\u001b[0mnp\u001b[0m\u001b[0;34m.\u001b[0m\u001b[0minf\u001b[0m\u001b[0;34m\u001b[0m\u001b[0;34m\u001b[0m\u001b[0m\n\u001b[1;32m     23\u001b[0m           \u001b[0;32mfor\u001b[0m \u001b[0mprev_state\u001b[0m \u001b[0;32min\u001b[0m \u001b[0mQ\u001b[0m\u001b[0;34m:\u001b[0m\u001b[0;34m\u001b[0m\u001b[0;34m\u001b[0m\u001b[0m\n\u001b[0;32m---> 24\u001b[0;31m             \u001b[0mprob\u001b[0m \u001b[0;34m=\u001b[0m \u001b[0mv\u001b[0m\u001b[0;34m[\u001b[0m\u001b[0mprev_state\u001b[0m\u001b[0;34m]\u001b[0m\u001b[0;34m[\u001b[0m\u001b[0mbins\u001b[0m\u001b[0;34m[\u001b[0m\u001b[0midx\u001b[0m\u001b[0;34m-\u001b[0m\u001b[0;36m1\u001b[0m\u001b[0;34m]\u001b[0m\u001b[0;34m]\u001b[0m \u001b[0;34m+\u001b[0m \u001b[0mtransitionLogProb\u001b[0m\u001b[0;34m(\u001b[0m\u001b[0mprev_state\u001b[0m\u001b[0;34m,\u001b[0m \u001b[0mstate\u001b[0m\u001b[0;34m)\u001b[0m \u001b[0;34m+\u001b[0m \u001b[0memissionLogProb\u001b[0m\u001b[0;34m(\u001b[0m\u001b[0mstate\u001b[0m\u001b[0;34m,\u001b[0m \u001b[0mnorm_count\u001b[0m\u001b[0;34m)\u001b[0m\u001b[0;34m\u001b[0m\u001b[0;34m\u001b[0m\u001b[0m\n\u001b[0m\u001b[1;32m     25\u001b[0m             \u001b[0mmax_probability\u001b[0m \u001b[0;34m=\u001b[0m \u001b[0mmax\u001b[0m\u001b[0;34m(\u001b[0m\u001b[0mmax_probability\u001b[0m\u001b[0;34m,\u001b[0m \u001b[0mprob\u001b[0m\u001b[0;34m)\u001b[0m\u001b[0;34m\u001b[0m\u001b[0;34m\u001b[0m\u001b[0m\n\u001b[1;32m     26\u001b[0m           \u001b[0mv\u001b[0m\u001b[0;34m[\u001b[0m\u001b[0mstate\u001b[0m\u001b[0;34m]\u001b[0m\u001b[0;34m[\u001b[0m\u001b[0mbin\u001b[0m\u001b[0;34m]\u001b[0m \u001b[0;34m=\u001b[0m \u001b[0mmax_probability\u001b[0m\u001b[0;34m\u001b[0m\u001b[0;34m\u001b[0m\u001b[0m\n",
            "\u001b[0;32m<ipython-input-20-c9bcdec81dc5>\u001b[0m in \u001b[0;36memissionLogProb\u001b[0;34m(copy_number, norm_count)\u001b[0m\n\u001b[1;32m      7\u001b[0m     \u001b[0;31m# Compute Pr(|X_c - norm_count| <= 0.01 | c)\u001b[0m\u001b[0;34m\u001b[0m\u001b[0;34m\u001b[0m\u001b[0m\n\u001b[1;32m      8\u001b[0m     \u001b[0mlow\u001b[0m \u001b[0;34m=\u001b[0m \u001b[0mnorm\u001b[0m\u001b[0;34m.\u001b[0m\u001b[0mcdf\u001b[0m\u001b[0;34m(\u001b[0m\u001b[0mnorm_count\u001b[0m \u001b[0;34m-\u001b[0m \u001b[0;36m0.01\u001b[0m\u001b[0;34m,\u001b[0m \u001b[0mmu\u001b[0m\u001b[0;34m,\u001b[0m \u001b[0msigma\u001b[0m\u001b[0;34m)\u001b[0m\u001b[0;34m\u001b[0m\u001b[0;34m\u001b[0m\u001b[0m\n\u001b[0;32m----> 9\u001b[0;31m     \u001b[0mup\u001b[0m \u001b[0;34m=\u001b[0m \u001b[0mnorm\u001b[0m\u001b[0;34m.\u001b[0m\u001b[0mcdf\u001b[0m\u001b[0;34m(\u001b[0m\u001b[0mnorm_count\u001b[0m \u001b[0;34m+\u001b[0m \u001b[0;36m0.01\u001b[0m\u001b[0;34m,\u001b[0m \u001b[0mmu\u001b[0m\u001b[0;34m,\u001b[0m \u001b[0msigma\u001b[0m\u001b[0;34m)\u001b[0m\u001b[0;34m\u001b[0m\u001b[0;34m\u001b[0m\u001b[0m\n\u001b[0m\u001b[1;32m     10\u001b[0m \u001b[0;34m\u001b[0m\u001b[0m\n\u001b[1;32m     11\u001b[0m     \u001b[0;31m# prevent probability of 0\u001b[0m\u001b[0;34m\u001b[0m\u001b[0;34m\u001b[0m\u001b[0m\n",
            "\u001b[0;32m/usr/local/lib/python3.10/dist-packages/scipy/stats/_distn_infrastructure.py\u001b[0m in \u001b[0;36mcdf\u001b[0;34m(self, x, *args, **kwds)\u001b[0m\n\u001b[1;32m   2078\u001b[0m         \u001b[0mplace\u001b[0m\u001b[0;34m(\u001b[0m\u001b[0moutput\u001b[0m\u001b[0;34m,\u001b[0m \u001b[0mcond2\u001b[0m\u001b[0;34m,\u001b[0m \u001b[0;36m1.0\u001b[0m\u001b[0;34m)\u001b[0m\u001b[0;34m\u001b[0m\u001b[0;34m\u001b[0m\u001b[0m\n\u001b[1;32m   2079\u001b[0m         \u001b[0;32mif\u001b[0m \u001b[0mnp\u001b[0m\u001b[0;34m.\u001b[0m\u001b[0many\u001b[0m\u001b[0;34m(\u001b[0m\u001b[0mcond\u001b[0m\u001b[0;34m)\u001b[0m\u001b[0;34m:\u001b[0m  \u001b[0;31m# call only if at least 1 entry\u001b[0m\u001b[0;34m\u001b[0m\u001b[0;34m\u001b[0m\u001b[0m\n\u001b[0;32m-> 2080\u001b[0;31m             \u001b[0mgoodargs\u001b[0m \u001b[0;34m=\u001b[0m \u001b[0margsreduce\u001b[0m\u001b[0;34m(\u001b[0m\u001b[0mcond\u001b[0m\u001b[0;34m,\u001b[0m \u001b[0;34m*\u001b[0m\u001b[0;34m(\u001b[0m\u001b[0;34m(\u001b[0m\u001b[0mx\u001b[0m\u001b[0;34m,\u001b[0m\u001b[0;34m)\u001b[0m\u001b[0;34m+\u001b[0m\u001b[0margs\u001b[0m\u001b[0;34m)\u001b[0m\u001b[0;34m)\u001b[0m\u001b[0;34m\u001b[0m\u001b[0;34m\u001b[0m\u001b[0m\n\u001b[0m\u001b[1;32m   2081\u001b[0m             \u001b[0mplace\u001b[0m\u001b[0;34m(\u001b[0m\u001b[0moutput\u001b[0m\u001b[0;34m,\u001b[0m \u001b[0mcond\u001b[0m\u001b[0;34m,\u001b[0m \u001b[0mself\u001b[0m\u001b[0;34m.\u001b[0m\u001b[0m_cdf\u001b[0m\u001b[0;34m(\u001b[0m\u001b[0;34m*\u001b[0m\u001b[0mgoodargs\u001b[0m\u001b[0;34m)\u001b[0m\u001b[0;34m)\u001b[0m\u001b[0;34m\u001b[0m\u001b[0;34m\u001b[0m\u001b[0m\n\u001b[1;32m   2082\u001b[0m         \u001b[0;32mif\u001b[0m \u001b[0moutput\u001b[0m\u001b[0;34m.\u001b[0m\u001b[0mndim\u001b[0m \u001b[0;34m==\u001b[0m \u001b[0;36m0\u001b[0m\u001b[0;34m:\u001b[0m\u001b[0;34m\u001b[0m\u001b[0;34m\u001b[0m\u001b[0m\n",
            "\u001b[0;32m/usr/local/lib/python3.10/dist-packages/scipy/stats/_distn_infrastructure.py\u001b[0m in \u001b[0;36margsreduce\u001b[0;34m(cond, *args)\u001b[0m\n\u001b[1;32m    604\u001b[0m     \u001b[0;32mif\u001b[0m \u001b[0mnp\u001b[0m\u001b[0;34m.\u001b[0m\u001b[0mall\u001b[0m\u001b[0;34m(\u001b[0m\u001b[0mcond\u001b[0m\u001b[0;34m)\u001b[0m\u001b[0;34m:\u001b[0m\u001b[0;34m\u001b[0m\u001b[0;34m\u001b[0m\u001b[0m\n\u001b[1;32m    605\u001b[0m         \u001b[0;31m# broadcast arrays with cond\u001b[0m\u001b[0;34m\u001b[0m\u001b[0;34m\u001b[0m\u001b[0m\n\u001b[0;32m--> 606\u001b[0;31m         \u001b[0;34m*\u001b[0m\u001b[0mnewargs\u001b[0m\u001b[0;34m,\u001b[0m \u001b[0mcond\u001b[0m \u001b[0;34m=\u001b[0m \u001b[0mnp\u001b[0m\u001b[0;34m.\u001b[0m\u001b[0mbroadcast_arrays\u001b[0m\u001b[0;34m(\u001b[0m\u001b[0;34m*\u001b[0m\u001b[0mnewargs\u001b[0m\u001b[0;34m,\u001b[0m \u001b[0mcond\u001b[0m\u001b[0;34m)\u001b[0m\u001b[0;34m\u001b[0m\u001b[0;34m\u001b[0m\u001b[0m\n\u001b[0m\u001b[1;32m    607\u001b[0m         \u001b[0;32mreturn\u001b[0m \u001b[0;34m[\u001b[0m\u001b[0marg\u001b[0m\u001b[0;34m.\u001b[0m\u001b[0mravel\u001b[0m\u001b[0;34m(\u001b[0m\u001b[0;34m)\u001b[0m \u001b[0;32mfor\u001b[0m \u001b[0marg\u001b[0m \u001b[0;32min\u001b[0m \u001b[0mnewargs\u001b[0m\u001b[0;34m]\u001b[0m\u001b[0;34m\u001b[0m\u001b[0;34m\u001b[0m\u001b[0m\n\u001b[1;32m    608\u001b[0m \u001b[0;34m\u001b[0m\u001b[0m\n",
            "\u001b[0;32m/usr/local/lib/python3.10/dist-packages/numpy/lib/stride_tricks.py\u001b[0m in \u001b[0;36mbroadcast_arrays\u001b[0;34m(subok, *args)\u001b[0m\n\u001b[1;32m    544\u001b[0m         \u001b[0;32mreturn\u001b[0m \u001b[0margs\u001b[0m\u001b[0;34m\u001b[0m\u001b[0;34m\u001b[0m\u001b[0m\n\u001b[1;32m    545\u001b[0m \u001b[0;34m\u001b[0m\u001b[0m\n\u001b[0;32m--> 546\u001b[0;31m     return [_broadcast_to(array, shape, subok=subok, readonly=False)\n\u001b[0m\u001b[1;32m    547\u001b[0m             for array in args]\n",
            "\u001b[0;32m/usr/local/lib/python3.10/dist-packages/numpy/lib/stride_tricks.py\u001b[0m in \u001b[0;36m<listcomp>\u001b[0;34m(.0)\u001b[0m\n\u001b[1;32m    544\u001b[0m         \u001b[0;32mreturn\u001b[0m \u001b[0margs\u001b[0m\u001b[0;34m\u001b[0m\u001b[0;34m\u001b[0m\u001b[0m\n\u001b[1;32m    545\u001b[0m \u001b[0;34m\u001b[0m\u001b[0m\n\u001b[0;32m--> 546\u001b[0;31m     return [_broadcast_to(array, shape, subok=subok, readonly=False)\n\u001b[0m\u001b[1;32m    547\u001b[0m             for array in args]\n",
            "\u001b[0;32m/usr/local/lib/python3.10/dist-packages/numpy/lib/stride_tricks.py\u001b[0m in \u001b[0;36m_broadcast_to\u001b[0;34m(array, shape, subok, readonly)\u001b[0m\n\u001b[1;32m    350\u001b[0m         \u001b[0;34m(\u001b[0m\u001b[0marray\u001b[0m\u001b[0;34m,\u001b[0m\u001b[0;34m)\u001b[0m\u001b[0;34m,\u001b[0m \u001b[0mflags\u001b[0m\u001b[0;34m=\u001b[0m\u001b[0;34m[\u001b[0m\u001b[0;34m'multi_index'\u001b[0m\u001b[0;34m,\u001b[0m \u001b[0;34m'refs_ok'\u001b[0m\u001b[0;34m,\u001b[0m \u001b[0;34m'zerosize_ok'\u001b[0m\u001b[0;34m]\u001b[0m \u001b[0;34m+\u001b[0m \u001b[0mextras\u001b[0m\u001b[0;34m,\u001b[0m\u001b[0;34m\u001b[0m\u001b[0;34m\u001b[0m\u001b[0m\n\u001b[1;32m    351\u001b[0m         op_flags=['readonly'], itershape=shape, order='C')\n\u001b[0;32m--> 352\u001b[0;31m     \u001b[0;32mwith\u001b[0m \u001b[0mit\u001b[0m\u001b[0;34m:\u001b[0m\u001b[0;34m\u001b[0m\u001b[0;34m\u001b[0m\u001b[0m\n\u001b[0m\u001b[1;32m    353\u001b[0m         \u001b[0;31m# never really has writebackifcopy semantics\u001b[0m\u001b[0;34m\u001b[0m\u001b[0;34m\u001b[0m\u001b[0m\n\u001b[1;32m    354\u001b[0m         \u001b[0mbroadcast\u001b[0m \u001b[0;34m=\u001b[0m \u001b[0mit\u001b[0m\u001b[0;34m.\u001b[0m\u001b[0mitviews\u001b[0m\u001b[0;34m[\u001b[0m\u001b[0;36m0\u001b[0m\u001b[0;34m]\u001b[0m\u001b[0;34m\u001b[0m\u001b[0;34m\u001b[0m\u001b[0m\n",
            "\u001b[0;31mKeyboardInterrupt\u001b[0m: "
          ]
        }
      ],
      "source": [
        "def viterbi(df_norm, cell):\n",
        "    # Positions\n",
        "    bins = sorted(list(df_norm.index))\n",
        "\n",
        "    # Set of states (copy numbers)\n",
        "    Q = range(max_copy_number+1)\n",
        "\n",
        "    # Initialization v[copy_number][bin] = 0\n",
        "    v = [ { bin : 0 for bin in bins } for c in range(max_copy_number + 1) ]\n",
        "    raise NotImplementedError()\n",
        "\n",
        "    for state in Q:\n",
        "        norm_count = float(df_norm.loc[bins[0]][cell])\n",
        "        v[state][bins[0]] = initialLogProb(state) + emissionLogProb(state, norm_count)\n",
        "\n",
        "    for idx, bin in enumerate(bins):\n",
        "        if idx == 0:\n",
        "            idx += 1\n",
        "            continue\n",
        "        norm_count = float(df_norm.loc[bin][cell])\n",
        "\n",
        "        for state in Q:\n",
        "          max_probability = -np.inf\n",
        "          for prev_state in Q:\n",
        "            prob = v[prev_state][bins[idx-1]] + transitionLogProb(prev_state, state) + emissionLogProb(state, norm_count)\n",
        "            max_probability = max(max_probability, prob)\n",
        "          v[state][bin] = max_probability\n",
        "\n",
        "    return v\n",
        "\n",
        "def max_joint_prob(df_norm, v):\n",
        "    # Positions\n",
        "    bins = sorted(list(df_norm.index))\n",
        "\n",
        "    # Set of states (copy numbers)\n",
        "    Q = range(max_copy_number+1)\n",
        "    last_bin = bins[-1]\n",
        "    max_joint_probability = None\n",
        "\n",
        "    best_prev_state = None\n",
        "\n",
        "    max_probability = -np.inf\n",
        "    for state in Q:\n",
        "      prob = v[state][last_bin]\n",
        "      if prob > max_probability:\n",
        "        max_probability = prob\n",
        "        best_prev_state = state\n",
        "\n",
        "\n",
        "    #backtrace?\n",
        "    state_backtrace = [best_prev_state]\n",
        "    for idx in range(len(bins)-2, -1, -1):\n",
        "      max_probability = -np.inf\n",
        "      prev_state = best_prev_state\n",
        "      for state in Q:\n",
        "        prob = v[state][bins[idx]] + transitionLogProb(state, prev_state)\n",
        "        if prob > max_probability:\n",
        "          max_probability = prob\n",
        "          best_prev_state = state\n",
        "\n",
        "    return max_joint_probability\n",
        "\n",
        "max_joint_probability = {}\n",
        "V = {}\n",
        "for cell in list(df_norm.columns[3:]):\n",
        "    V[cell] = viterbi(df_norm, cell)\n",
        "    max_joint_probability[cell] = max_joint_prob(df_norm, V[cell])"
      ]
    },
    {
      "cell_type": "markdown",
      "metadata": {
        "id": "0e4N0vjIIDvs"
      },
      "source": [
        "### _Q2c:_ Compute the most likely copy number profile for each cell. [10 points]\n",
        "\n",
        "**Note**: You should break ties by the order of the hidden states in $Q$.\n",
        "\n",
        "_Hint:_ Hint perform a backtrace or extend the above `viterbi` function to maintain backpointers."
      ]
    },
    {
      "cell_type": "code",
      "execution_count": 25,
      "metadata": {
        "id": "sTaONWBgIDvs",
        "colab": {
          "base_uri": "https://localhost:8080/",
          "height": 371
        },
        "outputId": "c3a7952b-5f35-4eed-d6d6-77de98a13863"
      },
      "outputs": [
        {
          "output_type": "error",
          "ename": "KeyboardInterrupt",
          "evalue": "",
          "traceback": [
            "\u001b[0;31m---------------------------------------------------------------------------\u001b[0m",
            "\u001b[0;31mKeyboardInterrupt\u001b[0m                         Traceback (most recent call last)",
            "\u001b[0;32m<ipython-input-25-ab73f213e9bc>\u001b[0m in \u001b[0;36m<cell line: 46>\u001b[0;34m()\u001b[0m\n\u001b[1;32m     45\u001b[0m \u001b[0mmax_joint_probability\u001b[0m \u001b[0;34m=\u001b[0m \u001b[0;34m{\u001b[0m\u001b[0;34m}\u001b[0m\u001b[0;34m\u001b[0m\u001b[0;34m\u001b[0m\u001b[0m\n\u001b[1;32m     46\u001b[0m \u001b[0;32mfor\u001b[0m \u001b[0mcell\u001b[0m \u001b[0;32min\u001b[0m \u001b[0mlist\u001b[0m\u001b[0;34m(\u001b[0m\u001b[0mdf_norm\u001b[0m\u001b[0;34m.\u001b[0m\u001b[0mcolumns\u001b[0m\u001b[0;34m[\u001b[0m\u001b[0;36m3\u001b[0m\u001b[0;34m:\u001b[0m\u001b[0;34m]\u001b[0m\u001b[0;34m)\u001b[0m\u001b[0;34m:\u001b[0m\u001b[0;34m\u001b[0m\u001b[0;34m\u001b[0m\u001b[0m\n\u001b[0;32m---> 47\u001b[0;31m     \u001b[0mV\u001b[0m\u001b[0;34m[\u001b[0m\u001b[0mcell\u001b[0m\u001b[0;34m]\u001b[0m\u001b[0;34m,\u001b[0m \u001b[0mBT\u001b[0m\u001b[0;34m[\u001b[0m\u001b[0mcell\u001b[0m\u001b[0;34m]\u001b[0m \u001b[0;34m=\u001b[0m \u001b[0mviterbi_bt\u001b[0m\u001b[0;34m(\u001b[0m\u001b[0mdf_norm\u001b[0m\u001b[0;34m,\u001b[0m \u001b[0mcell\u001b[0m\u001b[0;34m)\u001b[0m\u001b[0;34m\u001b[0m\u001b[0;34m\u001b[0m\u001b[0m\n\u001b[0m\u001b[1;32m     48\u001b[0m     \u001b[0mC\u001b[0m\u001b[0;34m[\u001b[0m\u001b[0mcell\u001b[0m\u001b[0;34m]\u001b[0m \u001b[0;34m=\u001b[0m \u001b[0;34m{\u001b[0m\u001b[0;34m}\u001b[0m\u001b[0;34m\u001b[0m\u001b[0;34m\u001b[0m\u001b[0m\n\u001b[1;32m     49\u001b[0m \u001b[0;34m\u001b[0m\u001b[0m\n",
            "\u001b[0;32m<ipython-input-25-ab73f213e9bc>\u001b[0m in \u001b[0;36mviterbi_bt\u001b[0;34m(df_norm, cell)\u001b[0m\n\u001b[1;32m     24\u001b[0m                     \u001b[0mv\u001b[0m\u001b[0;34m[\u001b[0m\u001b[0mprev_state\u001b[0m\u001b[0;34m]\u001b[0m\u001b[0;34m[\u001b[0m\u001b[0mprev_bin\u001b[0m\u001b[0;34m]\u001b[0m\u001b[0;34m\u001b[0m\u001b[0;34m\u001b[0m\u001b[0m\n\u001b[1;32m     25\u001b[0m                     \u001b[0;34m+\u001b[0m \u001b[0mtransitionLogProb\u001b[0m\u001b[0;34m(\u001b[0m\u001b[0mprev_state\u001b[0m\u001b[0;34m,\u001b[0m \u001b[0mstate\u001b[0m\u001b[0;34m)\u001b[0m\u001b[0;34m\u001b[0m\u001b[0;34m\u001b[0m\u001b[0m\n\u001b[0;32m---> 26\u001b[0;31m                     \u001b[0;34m+\u001b[0m \u001b[0memissionLogProb\u001b[0m\u001b[0;34m(\u001b[0m\u001b[0mstate\u001b[0m\u001b[0;34m,\u001b[0m \u001b[0mnorm_count\u001b[0m\u001b[0;34m)\u001b[0m\u001b[0;34m\u001b[0m\u001b[0;34m\u001b[0m\u001b[0m\n\u001b[0m\u001b[1;32m     27\u001b[0m                 )\n\u001b[1;32m     28\u001b[0m \u001b[0;34m\u001b[0m\u001b[0m\n",
            "\u001b[0;32m<ipython-input-20-c9bcdec81dc5>\u001b[0m in \u001b[0;36memissionLogProb\u001b[0;34m(copy_number, norm_count)\u001b[0m\n\u001b[1;32m      6\u001b[0m \u001b[0;34m\u001b[0m\u001b[0m\n\u001b[1;32m      7\u001b[0m     \u001b[0;31m# Compute Pr(|X_c - norm_count| <= 0.01 | c)\u001b[0m\u001b[0;34m\u001b[0m\u001b[0;34m\u001b[0m\u001b[0m\n\u001b[0;32m----> 8\u001b[0;31m     \u001b[0mlow\u001b[0m \u001b[0;34m=\u001b[0m \u001b[0mnorm\u001b[0m\u001b[0;34m.\u001b[0m\u001b[0mcdf\u001b[0m\u001b[0;34m(\u001b[0m\u001b[0mnorm_count\u001b[0m \u001b[0;34m-\u001b[0m \u001b[0;36m0.01\u001b[0m\u001b[0;34m,\u001b[0m \u001b[0mmu\u001b[0m\u001b[0;34m,\u001b[0m \u001b[0msigma\u001b[0m\u001b[0;34m)\u001b[0m\u001b[0;34m\u001b[0m\u001b[0;34m\u001b[0m\u001b[0m\n\u001b[0m\u001b[1;32m      9\u001b[0m     \u001b[0mup\u001b[0m \u001b[0;34m=\u001b[0m \u001b[0mnorm\u001b[0m\u001b[0;34m.\u001b[0m\u001b[0mcdf\u001b[0m\u001b[0;34m(\u001b[0m\u001b[0mnorm_count\u001b[0m \u001b[0;34m+\u001b[0m \u001b[0;36m0.01\u001b[0m\u001b[0;34m,\u001b[0m \u001b[0mmu\u001b[0m\u001b[0;34m,\u001b[0m \u001b[0msigma\u001b[0m\u001b[0;34m)\u001b[0m\u001b[0;34m\u001b[0m\u001b[0;34m\u001b[0m\u001b[0m\n\u001b[1;32m     10\u001b[0m \u001b[0;34m\u001b[0m\u001b[0m\n",
            "\u001b[0;32m/usr/local/lib/python3.10/dist-packages/scipy/stats/_distn_infrastructure.py\u001b[0m in \u001b[0;36mcdf\u001b[0;34m(self, x, *args, **kwds)\u001b[0m\n\u001b[1;32m   2042\u001b[0m         \u001b[0;32mreturn\u001b[0m \u001b[0moutput\u001b[0m\u001b[0;34m\u001b[0m\u001b[0;34m\u001b[0m\u001b[0m\n\u001b[1;32m   2043\u001b[0m \u001b[0;34m\u001b[0m\u001b[0m\n\u001b[0;32m-> 2044\u001b[0;31m     \u001b[0;32mdef\u001b[0m \u001b[0mcdf\u001b[0m\u001b[0;34m(\u001b[0m\u001b[0mself\u001b[0m\u001b[0;34m,\u001b[0m \u001b[0mx\u001b[0m\u001b[0;34m,\u001b[0m \u001b[0;34m*\u001b[0m\u001b[0margs\u001b[0m\u001b[0;34m,\u001b[0m \u001b[0;34m**\u001b[0m\u001b[0mkwds\u001b[0m\u001b[0;34m)\u001b[0m\u001b[0;34m:\u001b[0m\u001b[0;34m\u001b[0m\u001b[0;34m\u001b[0m\u001b[0m\n\u001b[0m\u001b[1;32m   2045\u001b[0m         \"\"\"\n\u001b[1;32m   2046\u001b[0m         \u001b[0mCumulative\u001b[0m \u001b[0mdistribution\u001b[0m \u001b[0mfunction\u001b[0m \u001b[0mof\u001b[0m \u001b[0mthe\u001b[0m \u001b[0mgiven\u001b[0m \u001b[0mRV\u001b[0m\u001b[0;34m.\u001b[0m\u001b[0;34m\u001b[0m\u001b[0;34m\u001b[0m\u001b[0m\n",
            "\u001b[0;31mKeyboardInterrupt\u001b[0m: "
          ]
        }
      ],
      "source": [
        "def viterbi_bt(df_norm, cell):\n",
        "    # Positions\n",
        "    bins = sorted(list(df_norm.index))\n",
        "\n",
        "    # Set of states (copy numbers)\n",
        "    Q = range(max_copy_number+1)\n",
        "\n",
        "    # Initialization v[copy_number][bin] = 0\n",
        "    v = [ { bin : 0 for bin in bins } for c in range(max_copy_number + 1) ]\n",
        "    bt = [ { bin : None for bin in bins } for c in range(max_copy_number + 1) ]\n",
        "\n",
        "    raise NotImplementedError\n",
        "\n",
        "    for idx, bin in enumerate(bins):\n",
        "        norm_count = float(df_norm.loc[bin][cell])\n",
        "\n",
        "        prev_bin = bins[idx - 1]\n",
        "\n",
        "        for state in Q:\n",
        "            max_probability = -np.inf\n",
        "            best_prev_state = None\n",
        "\n",
        "\n",
        "            for prev_state in Q:\n",
        "                prob = (\n",
        "                    v[prev_state][prev_bin]\n",
        "                    + transitionLogProb(prev_state, state)\n",
        "                    + emissionLogProb(state, norm_count)\n",
        "                )\n",
        "\n",
        "                if prob > max_probability:\n",
        "                    max_probability = prob\n",
        "                    best_prev_state = prev_state\n",
        "\n",
        "\n",
        "            v[state][bin] = max_probability\n",
        "            bt[state][bin] = best_prev_state\n",
        "\n",
        "    return v, bt\n",
        "\n",
        "bins = sorted(list(df_norm.index))\n",
        "Q = range(max_copy_number+1)\n",
        "\n",
        "V = {}\n",
        "BT = {}\n",
        "C = {}\n",
        "max_joint_probability = {}\n",
        "for cell in list(df_norm.columns[3:]):\n",
        "    V[cell], BT[cell] = viterbi_bt(df_norm, cell)\n",
        "    C[cell] = {}\n",
        "\n",
        "    max_prob = max_joint_prob(df_norm, V[cell])\n",
        "    final_c = None\n",
        "    final_bin = bins[-1]\n",
        "    for c in Q:\n",
        "        if V[cell][c][final_bin] == max_prob:\n",
        "            final_c = c\n",
        "\n",
        "    C[cell][final_bin] = final_c\n",
        "\n",
        "    for idx in range(len(bins)-2, -1, -1):\n",
        "        bin = bins[idx]\n",
        "        next_bin = bins[idx + 1]\n",
        "        next_bin_c = C[cell][next_bin]\n",
        "        C[cell][bin] = BT[cell][next_bin_c][next_bin]\n",
        "\n",
        "    max_joint_probability[cell] = max_prob\n",
        "    print(cell, \"--\", \"max prob:\", max_prob)"
      ]
    },
    {
      "cell_type": "markdown",
      "metadata": {
        "id": "RQE5TVEgIDvw"
      },
      "source": [
        "### _Q2d:_ How many cells are normal (i.e. have copy number 2 for each bin)? [10 points]\n",
        "\n",
        "Use `visualizeCopyNumbers(C, bins)` to set the value of `num_normal_cells`.\n"
      ]
    },
    {
      "cell_type": "code",
      "execution_count": null,
      "metadata": {
        "id": "NgPxah3_IDvx"
      },
      "outputs": [],
      "source": [
        "bins = sorted(list(df_norm.index))"
      ]
    },
    {
      "cell_type": "code",
      "execution_count": null,
      "metadata": {
        "id": "b78etAJvIDv0"
      },
      "outputs": [],
      "source": [
        "def visualizeCopyNumbers(C, bins):\n",
        "    nrRows = 5\n",
        "    nrCols = 4\n",
        "    for idx, cell in enumerate(C):\n",
        "        ax = plt.subplot(nrRows, nrCols, idx+1)\n",
        "        plt.step(list(range(len(bins))), list(C[cell].values()))\n",
        "        ax.set_title(cell)\n",
        "        ax.set_ylim((0, 10))\n",
        "        ax.set_xlabel(\"bin\")\n",
        "        ax.set_ylabel(\"copy number\")\n",
        "    plt.gcf().set_size_inches(30, 20)\n",
        "    plt.tight_layout()\n",
        "    plt.savefig(\"viterbi.pdf\")"
      ]
    },
    {
      "cell_type": "code",
      "execution_count": null,
      "metadata": {
        "id": "3Z9TbWUKIDv2"
      },
      "outputs": [],
      "source": [
        "visualizeCopyNumbers(C, bins)\n",
        "num_normal_cells = None\n",
        "# YOUR CODE HERE\n",
        "raise NotImplementedError()"
      ]
    },
    {
      "cell_type": "markdown",
      "metadata": {
        "id": "IndEiLV9IDv5"
      },
      "source": [
        "### _Q2e -- Bonus:_ Extend the plotting function to delineate chromosomes using vertical lines.  [5 points]\n",
        "\n",
        "- Do not forget to update x-axis labels to show chromosomes.\n",
        "- The output of 2e should be similar to 2d except with vertical delineations.\n",
        "- Generate the plot in the cell below."
      ]
    },
    {
      "cell_type": "code",
      "execution_count": null,
      "metadata": {
        "id": "D88654r-IDv6"
      },
      "outputs": [],
      "source": [
        "# YOUR CODE HERE\n",
        "raise NotImplementedError()"
      ]
    },
    {
      "cell_type": "markdown",
      "metadata": {
        "id": "4fCxvCLFIDv9"
      },
      "source": [
        "## Question 3: Forward algorithm [10 points]"
      ]
    },
    {
      "cell_type": "markdown",
      "metadata": {
        "id": "94Uv2rk_IDv9"
      },
      "source": [
        "### _Q3a:_ Compute the marginal log probability of the observations using the forward algorithm. [10 points]\n",
        "\n",
        "Complete the `forward` and `marginal_log_prob` functions defined below.\n",
        "\n",
        "Be aware that recurrence of the forward algorithm includes a summation, but we are operating in log space.\n",
        "\n",
        "You may find `logsumexp` in scipy useful, and you can find more details [here](https://docs.scipy.org/doc/scipy/reference/generated/scipy.special.logsumexp.html)."
      ]
    },
    {
      "cell_type": "code",
      "execution_count": null,
      "metadata": {
        "id": "wZffEuiFIDv-"
      },
      "outputs": [],
      "source": [
        "def forward(df_norm, cell):\n",
        "    # Positions\n",
        "    bins = sorted(list(df_norm.index))\n",
        "\n",
        "    # Set of states (copy numbers)\n",
        "    Q = range(max_copy_number+1)\n",
        "\n",
        "    # Initialization f[copy_number][bin] = 0\n",
        "    f = [ { bin : 0 for bin in bins } for c in range(max_copy_number + 1) ]\n",
        "\n",
        "    for idx, bin in enumerate(bins):\n",
        "        norm_count = float(df_norm.loc[bin][cell])\n",
        "\n",
        "        # YOUR CODE HERE\n",
        "        raise NotImplementedError()\n",
        "    return f\n",
        "\n",
        "def marginal_log_prob(df_norm, f):\n",
        "    # Positions\n",
        "    bins = sorted(list(df_norm.index))\n",
        "\n",
        "    # Set of states (copy numbers)\n",
        "    Q = range(max_copy_number+1)\n",
        "    last_bin = bins[-1]\n",
        "\n",
        "    marginal_log_probability = None\n",
        "    # YOUR CODE HERE\n",
        "    raise NotImplementedError()\n",
        "    return marginal_log_probability\n",
        "\n",
        "F = {}\n",
        "marginal_log_probability = {}\n",
        "for cell in list(df_norm.columns[3:]):\n",
        "    F[cell] = forward(df_norm, cell)\n",
        "    marginal_log_probability[cell] = marginal_log_prob(df_norm, F[cell])\n",
        "    print(cell, \"--\", \"marginal log prob:\", marginal_log_probability[cell])"
      ]
    },
    {
      "cell_type": "markdown",
      "metadata": {
        "id": "UVkgPyEfIDwE"
      },
      "source": [
        "## Question 4: Hierarchical clustering [20 points]\n",
        "The Python package `scipy` implements hierarchical clustering. We will use this method to perform single linkage cluster with the Manhattan (also known as cityblock) distance metric."
      ]
    },
    {
      "cell_type": "code",
      "execution_count": null,
      "metadata": {
        "id": "mLP6w6WfIDwF"
      },
      "outputs": [],
      "source": [
        "C_labels = list(C.keys())\n",
        "C_values = [list(C[cell].values()) for cell in C_labels]"
      ]
    },
    {
      "cell_type": "code",
      "execution_count": null,
      "metadata": {
        "id": "E3IrpY-tIDwI"
      },
      "outputs": [],
      "source": [
        "Z = hierarchy.linkage(C_values, 'single', 'cityblock')\n",
        "plt.figure()\n",
        "dn = hierarchy.dendrogram(Z, labels=C_labels, leaf_rotation=90)\n",
        "plt.show()"
      ]
    },
    {
      "cell_type": "markdown",
      "metadata": {
        "id": "9sIWx5Y8IDwL"
      },
      "source": [
        "The goal of this question is to reimplement this algorithm. We start by computing the initial distance matrix."
      ]
    },
    {
      "cell_type": "markdown",
      "metadata": {
        "id": "8JXvAKxGIDwN"
      },
      "source": [
        "### _Q4a:_ Compute the initial distance matrix using Manhattan distance. [10 points]"
      ]
    },
    {
      "cell_type": "code",
      "execution_count": null,
      "metadata": {
        "id": "PH0_U99jIDwN"
      },
      "outputs": [],
      "source": [
        "def manhattan(C, cell_1, cell_2, bins):\n",
        "    value = 0\n",
        "    # YOUR CODE HERE\n",
        "    raise NotImplementedError()\n",
        "    return value\n",
        "\n",
        "bins = sorted(list(df_norm.index))\n",
        "dist = {}\n",
        "for cell_1 in C.keys():\n",
        "    dist[cell_1] = {}\n",
        "    for cell_2 in C.keys():\n",
        "        dist[cell_1][cell_2] = manhattan(C, cell_1, cell_2, bins)"
      ]
    },
    {
      "cell_type": "markdown",
      "metadata": {
        "id": "ejw4TrrTIDwR"
      },
      "source": [
        "### _Q4b:_ Implement single linkage clustering. [10 points]\n",
        "_Hint:_ The documentation for the required output format is described here: https://docs.scipy.org/doc/scipy/reference/generated/scipy.cluster.hierarchy.linkage.html#scipy.cluster.hierarchy.linkage\n",
        "\n",
        "**NOTE**: There may be more than one pair of (c1, c2) that gives you the minimum dist. You should break ties in the dictionary order."
      ]
    },
    {
      "cell_type": "code",
      "execution_count": null,
      "metadata": {
        "id": "2411fNS8IDwS"
      },
      "outputs": [],
      "source": [
        "def cluster(distances):\n",
        "    distances = copy.deepcopy(distances)\n",
        "    clusters = set(distances.keys())\n",
        "    n = len(clusters)\n",
        "    cluster2idx = { cell : idx for idx, cell in enumerate(clusters) }\n",
        "    idx2cluster = [ cell for cell in clusters ]\n",
        "    Z = np.empty((0, 4), float)\n",
        "    membership = [ set([cluster2idx[cell]]) for cell in clusters ]\n",
        "    while len(clusters) > 1:\n",
        "        # TODO: identify pair (c1, c2) with minimum distance dist\n",
        "        dist, c1, c2 = None, None, None\n",
        "        # YOUR CODE HERE\n",
        "        raise NotImplementedError()\n",
        "        idx_c1 = cluster2idx[c1]\n",
        "        idx_c2 = cluster2idx[c2]\n",
        "        new_cluster = str(n + len(Z))\n",
        "        new_cluster_idx = len(idx2cluster)\n",
        "\n",
        "        membership.append( membership[idx_c1] | membership[idx_c2])\n",
        "        Z = np.append(Z,\n",
        "                      np.array([[cluster2idx[c1], cluster2idx[c2], dist, len(membership[new_cluster_idx])]]),\n",
        "                      axis=0)\n",
        "\n",
        "        # YOUR CODE HERE\n",
        "        raise NotImplementedError()\n",
        "        clusters.add(new_cluster)\n",
        "        cluster2idx[new_cluster] = len(idx2cluster)\n",
        "        idx2cluster.append(new_cluster)\n",
        "\n",
        "        clusters.remove(c1)\n",
        "        clusters.remove(c2)\n",
        "\n",
        "    return Z, idx2cluster[:n]"
      ]
    },
    {
      "cell_type": "code",
      "execution_count": null,
      "metadata": {
        "id": "P9VRcP_YIDwT"
      },
      "outputs": [],
      "source": [
        "Z, labels = cluster(dist)\n",
        "plt.figure()\n",
        "dn = hierarchy.dendrogram(Z, labels=labels, leaf_rotation=90)\n",
        "plt.show()"
      ]
    },
    {
      "cell_type": "markdown",
      "metadata": {
        "id": "aFE3qVBYIDwa"
      },
      "source": [
        "### _Q4c :_ Implement complete linkage clustering. [5 points]\n",
        "_Hint:_ The documentation for the required output format is described here: https://docs.scipy.org/doc/scipy/reference/generated/scipy.cluster.hierarchy.linkage.html#scipy.cluster.hierarchy.linkage. Your plot should be identical to the below scipy plot.\n",
        "\n",
        "**NOTE**: There may be more than one pair of (c1, c2) that gives you the minimum dist. You should break ties in the dictionary order."
      ]
    },
    {
      "cell_type": "code",
      "execution_count": null,
      "metadata": {
        "id": "KPvml0aPIDwa"
      },
      "outputs": [],
      "source": [
        "Z = hierarchy.linkage(C_values, 'complete', 'cityblock')\n",
        "plt.figure()\n",
        "dn = hierarchy.dendrogram(Z, labels=C_labels, leaf_rotation=90)\n",
        "plt.show()"
      ]
    },
    {
      "cell_type": "code",
      "execution_count": null,
      "metadata": {
        "id": "rP9cltKtIDwi"
      },
      "outputs": [],
      "source": [
        "def complete_cluster(distances):\n",
        "    distances = copy.deepcopy(distances)\n",
        "    clusters = set(distances.keys())\n",
        "    n = len(clusters)\n",
        "    cluster2idx = { cell : idx for idx, cell in enumerate(clusters) }\n",
        "    idx2cluster = [ cell for cell in clusters ]\n",
        "    Z = np.empty((0, 4), float)\n",
        "    membership = [ set([cluster2idx[cell]]) for cell in clusters ]\n",
        "    while len(clusters) > 1:\n",
        "        # TODO: identify pair (c1, c2) with minimum distance dist\n",
        "        dist, c1, c2 = None, None, None\n",
        "        # YOUR CODE HERE\n",
        "        raise NotImplementedError()\n",
        "        idx_c1 = cluster2idx[c1]\n",
        "        idx_c2 = cluster2idx[c2]\n",
        "        new_cluster = str(n + len(Z))\n",
        "        new_cluster_idx = len(idx2cluster)\n",
        "\n",
        "        membership.append( membership[idx_c1] | membership[idx_c2])\n",
        "        Z = np.append(Z,\n",
        "                      np.array([[cluster2idx[c1], cluster2idx[c2], dist, len(membership[new_cluster_idx])]]),\n",
        "                      axis=0)\n",
        "\n",
        "        # YOUR CODE HERE\n",
        "        raise NotImplementedError()\n",
        "        clusters.add(new_cluster)\n",
        "        cluster2idx[new_cluster] = len(idx2cluster)\n",
        "        idx2cluster.append(new_cluster)\n",
        "\n",
        "        clusters.remove(c1)\n",
        "        clusters.remove(c2)\n",
        "\n",
        "    return Z, idx2cluster[:n]"
      ]
    },
    {
      "cell_type": "code",
      "execution_count": null,
      "metadata": {
        "id": "OzF-J-VfIDwn"
      },
      "outputs": [],
      "source": [
        "Z, labels = complete_cluster(dist)\n",
        "plt.figure()\n",
        "dn = hierarchy.dendrogram(Z, labels=labels, leaf_rotation=90)\n",
        "plt.show()"
      ]
    }
  ],
  "metadata": {
    "colab": {
      "provenance": [],
      "include_colab_link": true
    },
    "kernelspec": {
      "display_name": "Python 3",
      "language": "python",
      "name": "python3"
    },
    "language_info": {
      "codemirror_mode": {
        "name": "ipython",
        "version": 3
      },
      "file_extension": ".py",
      "mimetype": "text/x-python",
      "name": "python",
      "nbconvert_exporter": "python",
      "pygments_lexer": "ipython3",
      "version": "3.8.5"
    }
  },
  "nbformat": 4,
  "nbformat_minor": 0
}